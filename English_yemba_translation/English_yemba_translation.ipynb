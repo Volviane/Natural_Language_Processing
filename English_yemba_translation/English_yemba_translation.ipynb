{
 "cells": [
  {
   "cell_type": "markdown",
   "metadata": {},
   "source": [
    "We import the needeed package"
   ]
  },
  {
   "cell_type": "code",
   "execution_count": 48,
   "metadata": {},
   "outputs": [],
   "source": [
    "import numpy as np\n",
    "from keras.preprocessing.text import Tokenizer\n",
    "\n",
    "from keras.utils import to_categorical\n",
    "from keras.preprocessing.sequence import pad_sequences\n",
    "\n",
    "from keras.models import Sequential\n",
    "from keras.layers import LSTM\n",
    "from keras.layers import Dense\n",
    "from keras.layers import Embedding\n",
    "from keras.layers import RepeatVector\n",
    "from keras.layers import TimeDistributed\n",
    "\n",
    "from keras.callbacks.callbacks import ModelCheckpoint\n",
    "\n",
    "\n",
    "from nltk.translate.bleu_score import corpus_bleu"
   ]
  },
  {
   "cell_type": "markdown",
   "metadata": {},
   "source": [
    "We load the data"
   ]
  },
  {
   "cell_type": "code",
   "execution_count": 3,
   "metadata": {},
   "outputs": [],
   "source": [
    "file = open('yemba_english_sentences.txt', mode='rt', encoding='utf-8')\n",
    "text = file.read()\n",
    "lines = text.strip().split('\\n')\n",
    "pairs = [line.split(';') for line in lines]"
   ]
  },
  {
   "cell_type": "code",
   "execution_count": 11,
   "metadata": {},
   "outputs": [
    {
     "data": {
      "text/plain": [
       "['Ŋgik ga á nzókó, ńzéŋɛ́ azēŋ.',\n",
       " 'My older brother spent the whole day dancing only the azeŋ.']"
      ]
     },
     "execution_count": 11,
     "metadata": {},
     "output_type": "execute_result"
    }
   ],
   "source": [
    "pairs[10]"
   ]
  },
  {
   "cell_type": "markdown",
   "metadata": {},
   "source": [
    "Tokenization"
   ]
  },
  {
   "cell_type": "code",
   "execution_count": 12,
   "metadata": {},
   "outputs": [],
   "source": [
    "# fit a tokenizer\n",
    "def create_tokenizer(lines):\n",
    "    tokenizer = Tokenizer()\n",
    "    tokenizer.fit_on_texts(lines)\n",
    "    return tokenizer\n",
    "\n",
    "# max sentence length\n",
    "def max_length(lines):\n",
    "    \n",
    "    return max(len(line.split()) for line in lines)"
   ]
  },
  {
   "cell_type": "code",
   "execution_count": 24,
   "metadata": {},
   "outputs": [
    {
     "name": "stdout",
     "output_type": "stream",
     "text": [
      "English Vocabulary Size: 8\n",
      "English Max Length: 4\n"
     ]
    }
   ],
   "source": [
    "en_tokenizer = create_tokenizer(pairs[1])\n",
    "en_vocab_size = len(en_tokenizer.word_index) + 1\n",
    "en_length = max_length(pairs[1])\n",
    "print('English Vocabulary Size: %d' % en_vocab_size)\n",
    "print('English Max Length: %d' % (en_length))"
   ]
  },
  {
   "cell_type": "code",
   "execution_count": 28,
   "metadata": {},
   "outputs": [
    {
     "name": "stdout",
     "output_type": "stream",
     "text": [
      "Yemba Vocabulary Size: 9\n",
      "Yemba Max Length: 4\n"
     ]
    }
   ],
   "source": [
    "yb_tokenizer = create_tokenizer(pairs[0])\n",
    "yb_vocab_size = len(yb_tokenizer.word_index) + 1\n",
    "yb_length = max_length(pairs[0])\n",
    "print('Yemba Vocabulary Size: %d' % yb_vocab_size)\n",
    "print('Yemba Max Length: %d' % (yb_length))"
   ]
  },
  {
   "cell_type": "code",
   "execution_count": 35,
   "metadata": {},
   "outputs": [],
   "source": [
    "# encode and pad sequences\n",
    "def encode_sequences(tokenizer, length, lines):\n",
    "    # integer encode sequences\n",
    "    X = tokenizer.texts_to_sequences(lines)\n",
    "    # pad sequences with 0 values\n",
    "    X = pad_sequences(X, maxlen=length, padding='post')\n",
    "    return X\n",
    "\n",
    "# one hot encode target sequence\n",
    "def encode_output(sequences, vocab_size):\n",
    "    ylist = list()\n",
    "    for sequence in sequences:\n",
    "        encoded = to_categorical(sequence, num_classes=vocab_size)\n",
    "        ylist.append(encoded)\n",
    "    y = np.array(ylist)\n",
    "    y = y.reshape(sequences.shape[0], sequences.shape[1], vocab_size)\n",
    "    return y"
   ]
  },
  {
   "cell_type": "code",
   "execution_count": 36,
   "metadata": {},
   "outputs": [],
   "source": [
    "# shuffle data\n",
    "dataset = np.array(pairs)\n",
    "np.random.shuffle(dataset)\n",
    "train, test = dataset[:40,:], dataset[40:,:]\n",
    "\n",
    "# prepare training data\n",
    "trainX = encode_sequences(en_tokenizer, en_length, train[:, 1])\n",
    "trainY = encode_sequences(yb_tokenizer, yb_length, train[:, 0])\n",
    "trainY = encode_output(trainY, yb_vocab_size)\n",
    "\n",
    "# prepare validation data\n",
    "testX = encode_sequences(en_tokenizer, en_length, test[:, 1])\n",
    "testY = encode_sequences(yb_tokenizer, yb_length, test[:, 0])\n",
    "testY = encode_output(testY, yb_vocab_size)"
   ]
  },
  {
   "cell_type": "code",
   "execution_count": 38,
   "metadata": {},
   "outputs": [],
   "source": [
    "# define seq2seq model\n",
    "def define_model(src_vocab, tar_vocab, \n",
    "                 source_steps, \n",
    "                 target_steps, \n",
    "                 embedding_dim):\n",
    "    model = Sequential()\n",
    "    # encoder\n",
    "    model.add(Embedding(src_vocab, embedding_dim, \n",
    "                input_length=source_steps, mask_zero=True))\n",
    "    model.add(LSTM(embedding_dim))\n",
    "    model.add(RepeatVector(target_steps))\n",
    "    # decoder\n",
    "    model.add(LSTM(embedding_dim, return_sequences=True))\n",
    "    model.add(TimeDistributed(Dense(tar_vocab, activation='softmax')))\n",
    "    # compile model\n",
    "    model.compile(optimizer='adam', loss='categorical_crossentropy')\n",
    "    # summarize defined model\n",
    "    model.summary()\n",
    "    return model"
   ]
  },
  {
   "cell_type": "code",
   "execution_count": 41,
   "metadata": {},
   "outputs": [
    {
     "name": "stdout",
     "output_type": "stream",
     "text": [
      "WARNING:tensorflow:From /home/aimsd/.local/lib/python3.7/site-packages/tensorflow/python/keras/backend.py:3794: add_dispatch_support.<locals>.wrapper (from tensorflow.python.ops.array_ops) is deprecated and will be removed in a future version.\n",
      "Instructions for updating:\n",
      "Use tf.where in 2.0, which has the same broadcast rule as np.where\n",
      "Model: \"sequential_1\"\n",
      "_________________________________________________________________\n",
      "Layer (type)                 Output Shape              Param #   \n",
      "=================================================================\n",
      "embedding_1 (Embedding)      (None, 4, 256)            2048      \n",
      "_________________________________________________________________\n",
      "lstm_1 (LSTM)                (None, 256)               525312    \n",
      "_________________________________________________________________\n",
      "repeat_vector_1 (RepeatVecto (None, 4, 256)            0         \n",
      "_________________________________________________________________\n",
      "lstm_2 (LSTM)                (None, 4, 256)            525312    \n",
      "_________________________________________________________________\n",
      "time_distributed_1 (TimeDist (None, 4, 9)              2313      \n",
      "=================================================================\n",
      "Total params: 1,054,985\n",
      "Trainable params: 1,054,985\n",
      "Non-trainable params: 0\n",
      "_________________________________________________________________\n"
     ]
    }
   ],
   "source": [
    "model = define_model(en_vocab_size, yb_vocab_size, en_length, yb_length, 256)"
   ]
  },
  {
   "cell_type": "code",
   "execution_count": 47,
   "metadata": {},
   "outputs": [
    {
     "name": "stdout",
     "output_type": "stream",
     "text": [
      "Train on 40 samples, validate on 11 samples\n",
      "Epoch 1/50\n",
      " - 0s - loss: 0.8685 - val_loss: 0.8542\n",
      "\n",
      "Epoch 00001: val_loss improved from inf to 0.85415, saving model to model_en_yb.h5\n",
      "Epoch 2/50\n",
      " - 0s - loss: 0.8237 - val_loss: 0.7919\n",
      "\n",
      "Epoch 00002: val_loss improved from 0.85415 to 0.79192, saving model to model_en_yb.h5\n",
      "Epoch 3/50\n",
      " - 0s - loss: 0.7843 - val_loss: 0.7472\n",
      "\n",
      "Epoch 00003: val_loss improved from 0.79192 to 0.74716, saving model to model_en_yb.h5\n",
      "Epoch 4/50\n",
      " - 0s - loss: 0.7591 - val_loss: 0.7161\n",
      "\n",
      "Epoch 00004: val_loss improved from 0.74716 to 0.71610, saving model to model_en_yb.h5\n",
      "Epoch 5/50\n",
      " - 0s - loss: 0.7480 - val_loss: 0.6948\n",
      "\n",
      "Epoch 00005: val_loss improved from 0.71610 to 0.69482, saving model to model_en_yb.h5\n",
      "Epoch 6/50\n",
      " - 0s - loss: 0.7341 - val_loss: 0.6858\n",
      "\n",
      "Epoch 00006: val_loss improved from 0.69482 to 0.68579, saving model to model_en_yb.h5\n",
      "Epoch 7/50\n",
      " - 0s - loss: 0.7156 - val_loss: 0.6856\n",
      "\n",
      "Epoch 00007: val_loss improved from 0.68579 to 0.68556, saving model to model_en_yb.h5\n",
      "Epoch 8/50\n",
      " - 0s - loss: 0.7037 - val_loss: 0.6851\n",
      "\n",
      "Epoch 00008: val_loss improved from 0.68556 to 0.68506, saving model to model_en_yb.h5\n",
      "Epoch 9/50\n",
      " - 0s - loss: 0.7007 - val_loss: 0.6807\n",
      "\n",
      "Epoch 00009: val_loss improved from 0.68506 to 0.68067, saving model to model_en_yb.h5\n",
      "Epoch 10/50\n",
      " - 0s - loss: 0.6916 - val_loss: 0.6607\n",
      "\n",
      "Epoch 00010: val_loss improved from 0.68067 to 0.66071, saving model to model_en_yb.h5\n",
      "Epoch 11/50\n",
      " - 0s - loss: 0.6830 - val_loss: 0.6397\n",
      "\n",
      "Epoch 00011: val_loss improved from 0.66071 to 0.63974, saving model to model_en_yb.h5\n",
      "Epoch 12/50\n",
      " - 0s - loss: 0.6750 - val_loss: 0.6269\n",
      "\n",
      "Epoch 00012: val_loss improved from 0.63974 to 0.62692, saving model to model_en_yb.h5\n",
      "Epoch 13/50\n",
      " - 0s - loss: 0.6677 - val_loss: 0.6171\n",
      "\n",
      "Epoch 00013: val_loss improved from 0.62692 to 0.61707, saving model to model_en_yb.h5\n",
      "Epoch 14/50\n",
      " - 0s - loss: 0.6604 - val_loss: 0.6108\n",
      "\n",
      "Epoch 00014: val_loss improved from 0.61707 to 0.61083, saving model to model_en_yb.h5\n",
      "Epoch 15/50\n",
      " - 0s - loss: 0.6540 - val_loss: 0.6110\n",
      "\n",
      "Epoch 00015: val_loss did not improve from 0.61083\n",
      "Epoch 16/50\n",
      " - 0s - loss: 0.6504 - val_loss: 0.6101\n",
      "\n",
      "Epoch 00016: val_loss improved from 0.61083 to 0.61012, saving model to model_en_yb.h5\n",
      "Epoch 17/50\n",
      " - 0s - loss: 0.6464 - val_loss: 0.6014\n",
      "\n",
      "Epoch 00017: val_loss improved from 0.61012 to 0.60135, saving model to model_en_yb.h5\n",
      "Epoch 18/50\n",
      " - 0s - loss: 0.6426 - val_loss: 0.5906\n",
      "\n",
      "Epoch 00018: val_loss improved from 0.60135 to 0.59065, saving model to model_en_yb.h5\n",
      "Epoch 19/50\n",
      " - 0s - loss: 0.6386 - val_loss: 0.5809\n",
      "\n",
      "Epoch 00019: val_loss improved from 0.59065 to 0.58093, saving model to model_en_yb.h5\n",
      "Epoch 20/50\n",
      " - 0s - loss: 0.6332 - val_loss: 0.5770\n",
      "\n",
      "Epoch 00020: val_loss improved from 0.58093 to 0.57698, saving model to model_en_yb.h5\n",
      "Epoch 21/50\n",
      " - 0s - loss: 0.6302 - val_loss: 0.5746\n",
      "\n",
      "Epoch 00021: val_loss improved from 0.57698 to 0.57458, saving model to model_en_yb.h5\n",
      "Epoch 22/50\n",
      " - 0s - loss: 0.6261 - val_loss: 0.5702\n",
      "\n",
      "Epoch 00022: val_loss improved from 0.57458 to 0.57017, saving model to model_en_yb.h5\n",
      "Epoch 23/50\n",
      " - 0s - loss: 0.6224 - val_loss: 0.5661\n",
      "\n",
      "Epoch 00023: val_loss improved from 0.57017 to 0.56613, saving model to model_en_yb.h5\n",
      "Epoch 24/50\n",
      " - 0s - loss: 0.6206 - val_loss: 0.5581\n",
      "\n",
      "Epoch 00024: val_loss improved from 0.56613 to 0.55811, saving model to model_en_yb.h5\n",
      "Epoch 25/50\n",
      " - 0s - loss: 0.6168 - val_loss: 0.5563\n",
      "\n",
      "Epoch 00025: val_loss improved from 0.55811 to 0.55631, saving model to model_en_yb.h5\n",
      "Epoch 26/50\n",
      " - 0s - loss: 0.6115 - val_loss: 0.5528\n",
      "\n",
      "Epoch 00026: val_loss improved from 0.55631 to 0.55283, saving model to model_en_yb.h5\n",
      "Epoch 27/50\n",
      " - 0s - loss: 0.6090 - val_loss: 0.5529\n",
      "\n",
      "Epoch 00027: val_loss did not improve from 0.55283\n",
      "Epoch 28/50\n",
      " - 0s - loss: 0.6051 - val_loss: 0.5595\n",
      "\n",
      "Epoch 00028: val_loss did not improve from 0.55283\n",
      "Epoch 29/50\n",
      " - 0s - loss: 0.6061 - val_loss: 0.5705\n",
      "\n",
      "Epoch 00029: val_loss did not improve from 0.55283\n",
      "Epoch 30/50\n",
      " - 0s - loss: 0.6014 - val_loss: 0.5651\n",
      "\n",
      "Epoch 00030: val_loss did not improve from 0.55283\n",
      "Epoch 31/50\n",
      " - 0s - loss: 0.5962 - val_loss: 0.5515\n",
      "\n",
      "Epoch 00031: val_loss improved from 0.55283 to 0.55154, saving model to model_en_yb.h5\n",
      "Epoch 32/50\n",
      " - 0s - loss: 0.5930 - val_loss: 0.5492\n",
      "\n",
      "Epoch 00032: val_loss improved from 0.55154 to 0.54923, saving model to model_en_yb.h5\n",
      "Epoch 33/50\n",
      " - 0s - loss: 0.5899 - val_loss: 0.5525\n",
      "\n",
      "Epoch 00033: val_loss did not improve from 0.54923\n",
      "Epoch 34/50\n",
      " - 0s - loss: 0.5861 - val_loss: 0.5529\n",
      "\n",
      "Epoch 00034: val_loss did not improve from 0.54923\n",
      "Epoch 35/50\n",
      " - 0s - loss: 0.5805 - val_loss: 0.5608\n",
      "\n",
      "Epoch 00035: val_loss did not improve from 0.54923\n",
      "Epoch 36/50\n",
      " - 0s - loss: 0.5821 - val_loss: 0.5742\n",
      "\n",
      "Epoch 00036: val_loss did not improve from 0.54923\n",
      "Epoch 37/50\n",
      " - 0s - loss: 0.5789 - val_loss: 0.5762\n",
      "\n",
      "Epoch 00037: val_loss did not improve from 0.54923\n",
      "Epoch 38/50\n",
      " - 0s - loss: 0.5720 - val_loss: 0.5636\n",
      "\n",
      "Epoch 00038: val_loss did not improve from 0.54923\n",
      "Epoch 39/50\n",
      " - 0s - loss: 0.5716 - val_loss: 0.5469\n",
      "\n",
      "Epoch 00039: val_loss improved from 0.54923 to 0.54686, saving model to model_en_yb.h5\n",
      "Epoch 40/50\n",
      " - 0s - loss: 0.5707 - val_loss: 0.5542\n",
      "\n",
      "Epoch 00040: val_loss did not improve from 0.54686\n",
      "Epoch 41/50\n",
      " - 0s - loss: 0.5632 - val_loss: 0.5618\n",
      "\n",
      "Epoch 00041: val_loss did not improve from 0.54686\n",
      "Epoch 42/50\n",
      " - 0s - loss: 0.5591 - val_loss: 0.5912\n",
      "\n",
      "Epoch 00042: val_loss did not improve from 0.54686\n",
      "Epoch 43/50\n",
      " - 0s - loss: 0.5555 - val_loss: 0.5826\n",
      "\n",
      "Epoch 00043: val_loss did not improve from 0.54686\n",
      "Epoch 44/50\n",
      " - 0s - loss: 0.5501 - val_loss: 0.5649\n",
      "\n",
      "Epoch 00044: val_loss did not improve from 0.54686\n",
      "Epoch 45/50\n",
      " - 0s - loss: 0.5558 - val_loss: 0.5565\n",
      "\n",
      "Epoch 00045: val_loss did not improve from 0.54686\n",
      "Epoch 46/50\n",
      " - 0s - loss: 0.5517 - val_loss: 0.5942\n",
      "\n",
      "Epoch 00046: val_loss did not improve from 0.54686\n",
      "Epoch 47/50\n",
      " - 0s - loss: 0.5426 - val_loss: 0.5878\n",
      "\n",
      "Epoch 00047: val_loss did not improve from 0.54686\n",
      "Epoch 48/50\n",
      " - 0s - loss: 0.5398 - val_loss: 0.5798\n",
      "\n",
      "Epoch 00048: val_loss did not improve from 0.54686\n",
      "Epoch 49/50\n",
      " - 0s - loss: 0.5379 - val_loss: 0.5908\n",
      "\n",
      "Epoch 00049: val_loss did not improve from 0.54686\n",
      "Epoch 50/50\n",
      " - 0s - loss: 0.5368 - val_loss: 0.5644\n",
      "\n",
      "Epoch 00050: val_loss did not improve from 0.54686\n"
     ]
    }
   ],
   "source": [
    "checkpoint = ModelCheckpoint('model_en_yb.h5', monitor='val_loss', \n",
    "                              verbose=1, save_best_only=True, mode='min')\n",
    "history = model.fit(trainX, trainY, epochs=50, batch_size=16, \n",
    "                    validation_data=(testX, testY), \n",
    "                    callbacks=[checkpoint], verbose=2)"
   ]
  },
  {
   "cell_type": "code",
   "execution_count": 51,
   "metadata": {},
   "outputs": [],
   "source": [
    "# map an integer to a word\n",
    "def word_for_id(integer, tokenizer):\n",
    "    for word, index in tokenizer.word_index.items():\n",
    "        if index == integer:\n",
    "            return word\n",
    "    return None\n",
    "  \n",
    "# generate target given source sequence\n",
    "def predict_sequence(model, tokenizer, source):\n",
    "    prediction = model.predict(source, verbose=0)[0]\n",
    "    integers = [np.argmax(vector) for vector in prediction]\n",
    "    target = list()\n",
    "    for i in integers:\n",
    "        word = word_for_id(i, tokenizer)\n",
    "        if word is None:\n",
    "            break\n",
    "        target.append(word)\n",
    "    return ' '.join(target)"
   ]
  },
  {
   "cell_type": "code",
   "execution_count": 52,
   "metadata": {},
   "outputs": [
    {
     "name": "stdout",
     "output_type": "stream",
     "text": [
      "src=[His mother prepared the couscous with the vegetable sauce.], target=[Mmá yi á ndā mésāŋ ńzap.], predicted=[á]\n",
      "src=[The taro is spoiled.], target=[Apā á pek.], predicted=[á]\n",
      "src=[The pig has bitten its tibia.], target=[Kúna á lo efe yí.], predicted=[á á]\n",
      "src=[I kept the oil box at the store.], target=[Meŋ á feŋ ndaŋ a ntaŋ.], predicted=[á]\n",
      "src=[My older brother spent the whole day dancing only the azeŋ.], target=[Ŋgik ga á nzókó, ńzéŋɛ́ azēŋ.], predicted=[á]\n",
      "src=[God is the only comforter.], target=[Ndem á si ŋgɔ ndaˈ n̄tsa mezeŋɛ.], predicted=[á]\n",
      "src=[I bit my tongue.], target=[Meŋ á lo ale zá.], predicted=[]\n",
      "src=[The feather of ŋgú is very long.], target=[Letɔ́ŋ ŋ́gūˈ é sāk tiˈ.], predicted=[á]\n",
      "src=[Dongmo and his friend spent the whole day singing in the backwater.], target=[Ndɔŋmɔ̄ pɔ́ esó yi é zók á ńdu nzɔ̄pɔ́.], predicted=[á]\n",
      "src=[The snake is in the basket.], target=[Nnū é ńte tuŋ.], predicted=[á]\n",
      "BLEU-1: 0.000000\n",
      "BLEU-2: 0.000000\n",
      "BLEU-3: 0.000000\n",
      "BLEU-4: 0.000000\n"
     ]
    }
   ],
   "source": [
    "# evaluate the model\n",
    "def evaluate_model(model, sources, raw_dataset):\n",
    "    actual, predicted = list(), list()\n",
    "    for i, source in enumerate(sources):\n",
    "        # translate encoded source text\n",
    "        source = source.reshape((1, source.shape[0]))\n",
    "        translation = predict_sequence(model, yb_tokenizer, source)\n",
    "        raw_target, raw_src = raw_dataset[i]\n",
    "        if i < 10:\n",
    "            print('src=[%s], target=[%s], predicted=[%s]' % (raw_src, raw_target, translation))\n",
    "        actual.append(raw_target.split())\n",
    "        predicted.append(translation.split())\n",
    "    # calculate BLEU score\n",
    "    print('BLEU-1: %f' % corpus_bleu(actual, predicted, weights=(1.0, 0, 0, 0)))\n",
    "    print('BLEU-2: %f' % corpus_bleu(actual, predicted, weights=(0.5, 0.5, 0, 0)))\n",
    "    print('BLEU-3: %f' % corpus_bleu(actual, predicted, weights=(0.3, 0.3, 0.3, 0)))\n",
    "    print('BLEU-4: %f' % corpus_bleu(actual, predicted, weights=(0.25, 0.25, 0.25, 0.25)))\n",
    "\n",
    "evaluate_model(model, trainX, train)"
   ]
  },
  {
   "cell_type": "code",
   "execution_count": null,
   "metadata": {},
   "outputs": [],
   "source": []
  }
 ],
 "metadata": {
  "kernelspec": {
   "display_name": "Python 3",
   "language": "python",
   "name": "python3"
  },
  "language_info": {
   "codemirror_mode": {
    "name": "ipython",
    "version": 3
   },
   "file_extension": ".py",
   "mimetype": "text/x-python",
   "name": "python",
   "nbconvert_exporter": "python",
   "pygments_lexer": "ipython3",
   "version": "3.7.4"
  }
 },
 "nbformat": 4,
 "nbformat_minor": 4
}
